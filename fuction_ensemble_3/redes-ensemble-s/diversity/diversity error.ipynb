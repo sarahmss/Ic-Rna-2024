{
 "cells": [
  {
   "cell_type": "code",
   "execution_count": 1,
   "metadata": {},
   "outputs": [
    {
     "name": "stdout",
     "output_type": "stream",
     "text": [
      "/workspaces/Ic-Rna-2024/fuction_ensemble_3/redes-ensemble-s/diversity\n"
     ]
    }
   ],
   "source": [
    "import os\n",
    "print(os.getcwd())"
   ]
  },
  {
   "cell_type": "code",
   "execution_count": null,
   "metadata": {},
   "outputs": [
    {
     "name": "stdout",
     "output_type": "stream",
     "text": [
      "Arquivo 1000_model_error.xlsx salvo com sucesso!\n"
     ]
    }
   ],
   "source": [
    "import pandas as pd\n",
    "import numpy as np\n",
    "\n",
    "def diversity(file_name, file_paths):\n",
    "    \"\"\"\n",
    "    Calcula o erro para um conjunto de redes fornecido e salva os resultados em um arquivo Excel.\n",
    "    \"\"\"\n",
    "    # Carregar os dados de todos os arquivos e armazenar os valores de 'Z_pred'\n",
    "    z_preds = [pd.read_excel(path)['Z_pred'].values.reshape(-1, 1) for path in file_paths]\n",
    "    \n",
    "    # Converter para array NumPy\n",
    "    valores = np.array(z_preds)\n",
    "    Z_media = valores.mean()\n",
    "\n",
    "    # Criando grade de valores esperados\n",
    "    x, y = np.meshgrid(np.linspace(-10, 10, 32), np.linspace(-10, 10, 32))\n",
    "    Z = ((x + 2 * y - 7)**2 + (2 * x + y - 5)**2).reshape(-1, 1)\n",
    "\n",
    "    # Cálculo do erro\n",
    "    error1 = sum((Z - z_pred) ** 2 for z_pred in z_preds)\n",
    "    error2 = sum((z_pred - Z_media) ** 2 for z_pred in z_preds)\n",
    "    error = error1 + error2\n",
    "\n",
    "    # Criando DataFrame e salvando no Excel\n",
    "    df_error = pd.DataFrame({'Error': error.flatten()})\n",
    "    df_error.to_excel(f\"{file_name}.xlsx\", index=False)\n",
    "    \n",
    "    print(f'Arquivo {file_name}.xlsx salvo com sucesso!')\n",
    "\n",
    "# Lista de arquivos de entrada\n",
    "file_paths = [\n",
    "    \"1000_model_2_8_14.xlsx\", \"1000_model_4_3_13.xlsx\",  \"1000_model_8_4_3.xlsx\", \"1000_model_8_7_0.xlsx\",\n",
    "    \"1000_model_18_8_24.xlsx\", \"1000_model_24_8_4.xlsx\", \"1000_model_24_9_8.xlsx\", \"1000_model_26_4_3.xlsx\",\n",
    "    \"1000_model_28_9_21.xlsx\", \"1000_model_30_8_1.xlsx\",\"1000_model_31_9_8.xlsx\", \"1000_model_35_7_20.xlsx\",\n",
    "    \"1000_model_36_5_0.xlsx\", \"1000_model_38_2_0.xlsx\",\"1000_model_38_7_24.xlsx\"\n",
    "]\n",
    "\n",
    "# Chamando a função\n",
    "diversity(\"1000_model_error\", file_paths)\n"
   ]
  },
  {
   "cell_type": "code",
   "execution_count": 10,
   "metadata": {},
   "outputs": [
    {
     "ename": "SyntaxError",
     "evalue": "invalid syntax. Perhaps you forgot a comma? (1440709280.py, line 34)",
     "output_type": "error",
     "traceback": [
      "\u001b[0;36m  Cell \u001b[0;32mIn[10], line 34\u001b[0;36m\u001b[0m\n\u001b[0;31m    'Rede': np.repeat(network_names, len(error.flatten()) // len(network_names))\u001b[0m\n\u001b[0m            ^\u001b[0m\n\u001b[0;31mSyntaxError\u001b[0m\u001b[0;31m:\u001b[0m invalid syntax. Perhaps you forgot a comma?\n"
     ]
    }
   ],
   "source": [
    "import pandas as pd\n",
    "import numpy as np\n",
    "import itertools\n",
    "import os\n",
    "from tqdm import tqdm  # Para barra de progresso\n",
    "\n",
    "def diversity(fileName, file_paths, conjunto_id):\n",
    "    \"\"\"\n",
    "    Calcula o erro para um conjunto de redes fornecido e salva os resultados em um arquivo Excel.\n",
    "    \"\"\"\n",
    "    dataframes = [pd.read_excel(path) for path in file_paths]\n",
    "    z_preds = [df['Z_pred'].values.reshape(-1, 1) for df in dataframes]\n",
    "\n",
    "    # Obter os nomes das redes\n",
    "    network_names = [os.path.basename(path) for path in file_paths]\n",
    "\n",
    "    valores = np.array(z_preds)\n",
    "    Z_media = valores.mean()\n",
    "\n",
    "    x = np.linspace(-10, 10, 32)\n",
    "    y = np.linspace(-10, 10, 32)\n",
    "    x, y = np.meshgrid(x, y)\n",
    "    z = (x + 2 * y - 7)**2 + (2 * x + y - 5)**2\n",
    "    Z = z.reshape(-1, 1)\n",
    "\n",
    "    # Cálculo do erro\n",
    "    error1 = sum((Z - z_pred) ** 2 for z_pred in z_preds)\n",
    "    error2 = sum((z_pred - Z_media) ** 2 for z_pred in z_preds)\n",
    "    error = error1 + error2\n",
    "\n",
    "    # Criando DataFrame para salvar no Excel\n",
    "    df_error = pd.DataFrame({\n",
    "    'Conjunto': [conjunto_id] * len(error.flatten()),  # Adiciona o identificador do conjunto\n",
    "    'Rede': np.repeat(network_names, len(error.flatten()) // len(network_names))\n",
    "    'Error': error.flatten()\n",
    "     })\n",
    "\n",
    "    # Criando pasta para salvar os arquivos (se não existir)\n",
    "    output_folder = \"Conjuntos_de_Redes_Erros\"\n",
    "    os.makedirs(output_folder, exist_ok=True)\n",
    "\n",
    "    # Salvando a planilha com erro no diretório especificado\n",
    "    file_path = os.path.join(output_folder, f\"{fileName}.xlsx\")\n",
    "    df_error.to_excel(file_path, index=False)\n",
    "    print(f'✅ Arquivo {fileName}.xlsx salvo com sucesso em {output_folder}!')\n",
    "\n",
    "# Lista dos arquivos das 100 redes (substitua pelos nomes reais dos arquivos)\n",
    "file_list = [\"1000_model_4_3_13.xlsx\", \"1000_model_8_4_3.xlsx\", \"1000_model_24_8_4.xlsx\",\n",
    "    \"1000_model_28_9_21.xlsx\", \"1000_model_31_9_8.xlsx\", \"1000_model_36_5_0.xlsx\",\n",
    "    \"1000_model_38_2_0.xlsx\", \"1000_model_31_9_8.xlsx\", \"1000_model_36_5_0.xlsx\",\n",
    "    \"1000_model_38_2_0.xlsx\"]\n",
    "\n",
    "# Gerando todas as combinações de 10 redes entre as 100 disponíveis\n",
    "combinations_10 = list(itertools.combinations(file_list, 10))\n",
    "\n",
    "print(f\"Total de combinações: {len(combinations_10)}\")\n",
    "\n",
    "# Processando todas as combinações\n",
    "for idx, file_paths in enumerate(tqdm(combinations_10, desc=\"Processando combinações\")):\n",
    "    file_name = f\"error_set_{idx+1}\"  # Nome do arquivo de saída\n",
    "    diversity(file_name, file_paths, conjunto_id=idx+1)  # Passando o identificador do conjunto\n"
   ]
  }
 ],
 "metadata": {
  "kernelspec": {
   "display_name": "Python 3",
   "language": "python",
   "name": "python3"
  },
  "language_info": {
   "codemirror_mode": {
    "name": "ipython",
    "version": 3
   },
   "file_extension": ".py",
   "mimetype": "text/x-python",
   "name": "python",
   "nbconvert_exporter": "python",
   "pygments_lexer": "ipython3",
   "version": "3.10.13"
  }
 },
 "nbformat": 4,
 "nbformat_minor": 2
}
